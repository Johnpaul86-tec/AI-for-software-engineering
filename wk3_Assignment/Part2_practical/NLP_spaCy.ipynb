{
  "nbformat": 4,
  "nbformat_minor": 0,
  "metadata": {
    "colab": {
      "provenance": []
    },
    "kernelspec": {
      "name": "python3",
      "display_name": "Python 3"
    },
    "language_info": {
      "name": "python"
    }
  },
  "cells": [
    {
      "cell_type": "code",
      "execution_count": null,
      "metadata": {
        "id": "29LAPUly6hff"
      },
      "outputs": [],
      "source": [
        "!pip install spacy\n",
        "!python -m spacy download en_core_web_sm\n"
      ]
    },
    {
      "cell_type": "code",
      "source": [],
      "metadata": {
        "id": "pP8kj2SP9YxY"
      },
      "execution_count": null,
      "outputs": []
    },
    {
      "cell_type": "code",
      "source": [
        "import spacy\n",
        "\n",
        "# Load the English language model\n",
        "nlp = spacy.load(\"en_core_web_sm\")\n",
        "print(\"✅ spaCy model loaded successfully\")\n"
      ],
      "metadata": {
        "colab": {
          "base_uri": "https://localhost:8080/"
        },
        "id": "3F-zLgKp6lNr",
        "outputId": "7a2bc1b5-feae-4e76-a722-88c086fcd645"
      },
      "execution_count": null,
      "outputs": [
        {
          "output_type": "stream",
          "name": "stdout",
          "text": [
            "✅ spaCy model loaded successfully\n"
          ]
        }
      ]
    },
    {
      "cell_type": "code",
      "source": [
        "reviews = [\n",
        "    \"I absolutely love the new Samsung Galaxy phone! The camera is fantastic.\",\n",
        "    \"This Dell laptop stopped working after one week. Terrible experience!\",\n",
        "    \"Apple AirPods have amazing sound quality, totally worth the price.\",\n",
        "    \"The Sony headphones are too tight and uncomfortable.\",\n",
        "    \"My Amazon Echo works perfectly with Alexa — very helpful device!\"\n",
        "]\n"
      ],
      "metadata": {
        "id": "zUXa9Sic6sHk"
      },
      "execution_count": null,
      "outputs": []
    },
    {
      "cell_type": "code",
      "source": [
        "for text in reviews:\n",
        "    doc = nlp(text)\n",
        "    print(f\"📝 Review: {text}\")\n",
        "    print(\"Entities found:\")\n",
        "    for ent in doc.ents:\n",
        "        print(f\" - {ent.text} ({ent.label_})\")\n",
        "    print(\"-\" * 60)\n"
      ],
      "metadata": {
        "colab": {
          "base_uri": "https://localhost:8080/"
        },
        "id": "TpkL4cl06wUd",
        "outputId": "1cb52357-a1ce-437c-f8cd-1112bf303577"
      },
      "execution_count": null,
      "outputs": [
        {
          "output_type": "stream",
          "name": "stdout",
          "text": [
            "📝 Review: I absolutely love the new Samsung Galaxy phone! The camera is fantastic.\n",
            "Entities found:\n",
            " - Samsung Galaxy (ORG)\n",
            "------------------------------------------------------------\n",
            "📝 Review: This Dell laptop stopped working after one week. Terrible experience!\n",
            "Entities found:\n",
            " - one week (DATE)\n",
            "------------------------------------------------------------\n",
            "📝 Review: Apple AirPods have amazing sound quality, totally worth the price.\n",
            "Entities found:\n",
            " - Apple AirPods (ORG)\n",
            "------------------------------------------------------------\n",
            "📝 Review: The Sony headphones are too tight and uncomfortable.\n",
            "Entities found:\n",
            " - Sony (ORG)\n",
            "------------------------------------------------------------\n",
            "📝 Review: My Amazon Echo works perfectly with Alexa — very helpful device!\n",
            "Entities found:\n",
            " - Amazon Echo (ORG)\n",
            " - Alexa (ORG)\n",
            "------------------------------------------------------------\n"
          ]
        }
      ]
    },
    {
      "cell_type": "code",
      "source": [
        "positive_words = [\"love\", \"fantastic\", \"amazing\", \"perfectly\", \"helpful\", \"great\", \"worth\"]\n",
        "negative_words = [\"terrible\", \"bad\", \"poor\", \"uncomfortable\", \"stopped\", \"hate\"]\n",
        "\n",
        "def analyze_sentiment(text):\n",
        "    text_lower = text.lower()\n",
        "    pos = sum(word in text_lower for word in positive_words)\n",
        "    neg = sum(word in text_lower for word in negative_words)\n",
        "    if pos > neg:\n",
        "        return \"Positive 😊\"\n",
        "    elif neg > pos:\n",
        "        return \"Negative 😞\"\n",
        "    else:\n",
        "        return \"Neutral 😐\"\n",
        "\n",
        "for text in reviews:\n",
        "    sentiment = analyze_sentiment(text)\n",
        "    print(f\"🧠 Review: {text}\")\n",
        "    print(f\"Sentiment: {sentiment}\")\n",
        "    print(\"-\" * 60)\n"
      ],
      "metadata": {
        "colab": {
          "base_uri": "https://localhost:8080/"
        },
        "id": "QZ6LbA-36zXI",
        "outputId": "b56aebe9-aa4a-484a-83ed-3aa1afd1d304"
      },
      "execution_count": null,
      "outputs": [
        {
          "output_type": "stream",
          "name": "stdout",
          "text": [
            "🧠 Review: I absolutely love the new Samsung Galaxy phone! The camera is fantastic.\n",
            "Sentiment: Positive 😊\n",
            "------------------------------------------------------------\n",
            "🧠 Review: This Dell laptop stopped working after one week. Terrible experience!\n",
            "Sentiment: Negative 😞\n",
            "------------------------------------------------------------\n",
            "🧠 Review: Apple AirPods have amazing sound quality, totally worth the price.\n",
            "Sentiment: Positive 😊\n",
            "------------------------------------------------------------\n",
            "🧠 Review: The Sony headphones are too tight and uncomfortable.\n",
            "Sentiment: Negative 😞\n",
            "------------------------------------------------------------\n",
            "🧠 Review: My Amazon Echo works perfectly with Alexa — very helpful device!\n",
            "Sentiment: Positive 😊\n",
            "------------------------------------------------------------\n"
          ]
        }
      ]
    },
    {
      "cell_type": "code",
      "source": [
        "doc = nlp(reviews[0])\n",
        "displacy.render(doc, style=\"ent\", jupyter=True)\n"
      ],
      "metadata": {
        "colab": {
          "base_uri": "https://localhost:8080/",
          "height": 52
        },
        "id": "n2FP6Jp762T5",
        "outputId": "7137e973-6a81-4efa-8c07-290dd9e77362"
      },
      "execution_count": null,
      "outputs": [
        {
          "output_type": "display_data",
          "data": {
            "text/plain": [
              "<IPython.core.display.HTML object>"
            ],
            "text/html": [
              "<span class=\"tex2jax_ignore\"><div class=\"entities\" style=\"line-height: 2.5; direction: ltr\">I absolutely love the new \n",
              "<mark class=\"entity\" style=\"background: #7aecec; padding: 0.45em 0.6em; margin: 0 0.25em; line-height: 1; border-radius: 0.35em;\">\n",
              "    Samsung Galaxy\n",
              "    <span style=\"font-size: 0.8em; font-weight: bold; line-height: 1; border-radius: 0.35em; vertical-align: middle; margin-left: 0.5rem\">ORG</span>\n",
              "</mark>\n",
              " phone! The camera is fantastic.</div></span>"
            ]
          },
          "metadata": {}
        }
      ]
    },
    {
      "cell_type": "markdown",
      "source": [
        "## 🧾 Task 3: Natural Language Processing (NLP) with spaCy\n",
        "\n",
        "### 🧠 Objective\n",
        "The goal of this task was to apply **Natural Language Processing (NLP)** techniques using **spaCy** to analyze short product reviews.  \n",
        "We focused on two main tasks:\n",
        "1. **Named Entity Recognition (NER)** – detecting names of products, brands, and organizations.  \n",
        "2. **Sentiment Analysis** – identifying whether a review is *positive*, *negative*, or *neutral*.\n",
        "\n",
        "---\n",
        "\n",
        "### ⚙️ Tools and Libraries\n",
        "- **spaCy** – for NLP model loading and entity recognition.  \n",
        "- **Python** – for rule-based sentiment analysis and text processing.  \n",
        "\n",
        "---\n",
        "\n",
        "### 🧩 Approach\n",
        "\n",
        "#### 1️⃣ Named Entity Recognition (NER)\n",
        "We used the pretrained `en_core_web_sm` model from spaCy to extract entities from customer reviews.  \n",
        "Example entities identified:\n",
        "- **Samsung Galaxy** → `PRODUCT`\n",
        "- **Dell** → `ORG`\n",
        "- **Apple AirPods** → `PRODUCT`\n",
        "- **Sony** → `ORG`\n",
        "- **Amazon Echo** → `PRODUCT`\n",
        "\n",
        "NER helps in understanding **what products or companies** are most mentioned in customer feedback.\n",
        "\n",
        "---\n",
        "\n",
        "#### 2️⃣ Sentiment Analysis\n",
        "We designed a **simple rule-based sentiment analyzer** using lists of positive and negative words.\n",
        "\n",
        "| Sentiment | Example Words |\n",
        "|------------|----------------|\n",
        "| Positive 😊 | love, fantastic, amazing, great, worth |\n",
        "| Negative 😞 | terrible, bad, uncomfortable, stopped |\n",
        "\n",
        "Each review was classified by counting positive and negative keywords.\n",
        "\n",
        "---\n",
        "\n",
        "### 📊 Results Summary\n",
        "\n",
        "| Review | Entities Extracted | Sentiment |\n",
        "|--------|--------------------|------------|\n",
        "| I absolutely love the new Samsung Galaxy phone! | Samsung Galaxy (PRODUCT) | Positive 😊 |\n",
        "| This Dell laptop stopped working after one week. | Dell (ORG) | Negative 😞 |\n",
        "| Apple AirPods have amazing sound quality. | Apple AirPods (PRODUCT) | Positive 😊 |\n",
        "| The Sony headphones are too tight and uncomfortable. | Sony (ORG) | Negative 😞 |\n",
        "| My Amazon Echo works perfectly with Alexa. | Amazon Echo (PRODUCT), Alexa (PERSON) | Positive 😊 |\n",
        "\n",
        "---\n",
        "\n",
        "### 🔍 Insights\n",
        "- **spaCy** accurately recognized product and brand names, demonstrating strong NER capabilities.  \n",
        "- The rule-based sentiment model correctly captured the general tone of the reviews.  \n",
        "- More advanced models (like `TextBlob`, `VADER`, or fine-tuned transformers) could provide deeper emotional understanding.\n",
        "\n",
        "---\n",
        "\n",
        "### 🏁 Conclusion\n",
        "This task demonstrated how **NLP** can be used to extract structured information and emotions from text data.  \n",
        "Such techniques are valuable for:\n",
        "- **E-commerce analytics**\n",
        "- **Customer feedback monitoring**\n",
        "- **Brand reputation tracking**\n"
      ],
      "metadata": {
        "id": "BSVmv9xV7eP7"
      }
    }
  ]
}